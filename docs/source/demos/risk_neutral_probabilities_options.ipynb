{
 "cells": [
  {
   "cell_type": "markdown",
   "id": "ac1f41d2",
   "metadata": {},
   "source": [
    "# Recovering Risk-Neutral Probabilities from Options Prices"
   ]
  },
  {
   "cell_type": "markdown",
   "id": "61734429",
   "metadata": {},
   "source": [
    "It's intuitive that the price of call and put options imply that the market sees probabilities for different \"states of the world\" or different prices of the underlying security at expiration of the option. If a future price of a stock (say, Apple) is very likely, then an option that provides a high payoff for that future price will be relatively expensive. If the price of a future that provides a high payoff for a given option is low, the price of the option will be relatively low. "
   ]
  },
  {
   "cell_type": "markdown",
   "id": "8cfebead",
   "metadata": {},
   "source": [
    "## Problem description\n",
    "\n",
    "\n",
    "<b>What we have:\n",
    "\n",
    "- Call and put options for a given security each with:\n",
    "    - Option price\n",
    "    - Strike price\n",
    "    - Expiration date\n",
    "    - Different potential prices for the underlying asset (\"states of the world\"), bounded by $[a,b]$\n",
    "\n",
    "<b>What we want:\n",
    "- The implied probability distribution for future potential prices of the underlying asset at the expiration date\n",
    "    \n",
    "<b>Assumption:\n",
    "- Risk-neutrality: an investor is risk-neutral (as opposed to risk-averse) if, for example, they are indifferent to an instrument that pays a guaranteed 3 dollar return and one that pays 0 dollars 50% of the time and 6 dollars 50% of the time."
   ]
  },
  {
   "cell_type": "markdown",
   "id": "63e4a2c8",
   "metadata": {},
   "source": [
    "## Problem formulation\n",
    "\n",
    "# min $\\sum_k (C_k - C_k(x))^2 + \\sum_k (P_k - P_k(x))^2$\n",
    "\n",
    "where\n",
    "- $C_k$, $P_k$ are the true prices of the call and put options respectively options for each available strike price $k$\n",
    "- $C_k(x)$, $P_k(x)$ can be thought of as the theoretical prices for the options\n",
    "\n",
    "Essentially, we are solving a constrained least-squares problem.\n",
    "\n",
    "For a case where states of the world $\\Omega$ are continuous and $a \\le \\omega \\le b$, \n",
    "\n",
    "$C_k(x) = \\frac{1}{1+r} \\int_a^b{p(\\omega)S_1(\\omega)d\\omega}$,   |    $P_k(x) = \\frac{1}{1+r} \\int_a^b{p(\\omega)S_1(\\omega)  d\\omega}$\n",
    "\n",
    "For the discrete case (which will be our encoding of the problem):\n",
    "\n",
    "$C_k(x) = \\frac{1}{1+r} \\Sigma_a^b{p(\\omega)S_1(\\omega)d\\omega}$,   |    $P_k(x) = \\frac{1}{1+r} \\Sigma_a^b{p(\\omega)S_1(\\omega)  d\\omega}$\n",
    "\n",
    "In other words, the theoretical price of the option is the sum of all probabilities of a state of the world occurring times the payoff if that state occurs, discounted by the risk-free rate. We constrain that all probabilities for all states of the world sum to 1.\n",
    "\n",
    "So, we must find the probability for each potential future price of the underlying asset between $a$ and $b$. This probability is \"priced in\" to the price $C_k$ and $P_k$ of each call and put option; so, the expected value of each option with strike price $k$ (the value of the option, as calculated by the dot product of the payoff vector and probability vector for $\\Omega$), minus the cost of the option *should* be zero, assuming no arbitrage opportunity exists. "
   ]
  },
  {
   "cell_type": "markdown",
   "id": "9e22d11c",
   "metadata": {},
   "source": [
    "## Solving the problem using quantum techniques"
   ]
  },
  {
   "cell_type": "code",
   "execution_count": 1,
   "id": "8d90ac41",
   "metadata": {},
   "outputs": [],
   "source": [
    "import qubovert as qv\n",
    "import sympy\n",
    "from qubovert.sim import anneal_qubo\n",
    "from scipy.stats import norm, lognorm\n",
    "from scipy.optimize import curve_fit\n",
    "from scipy.integrate import trapz\n",
    "import matplotlib.pyplot as plt\n",
    "import numpy as np\n",
    "from optionshelper import *"
   ]
  },
  {
   "cell_type": "code",
   "execution_count": 2,
   "id": "5eb5517a",
   "metadata": {},
   "outputs": [],
   "source": [
    "# Set the risk-free rate\n",
    "r = 0.03\n",
    "R = 1 + r"
   ]
  },
  {
   "cell_type": "markdown",
   "id": "bd93dc26",
   "metadata": {},
   "source": [
    "Let's find the probability distribution for AAPL's price one Friday from now."
   ]
  },
  {
   "cell_type": "code",
   "execution_count": 3,
   "id": "91d9625a",
   "metadata": {},
   "outputs": [],
   "source": [
    "# Get sample options data\n",
    "json_data = get_options_data_as_json()"
   ]
  },
  {
   "cell_type": "markdown",
   "id": "04d8af34",
   "metadata": {},
   "source": [
    "As we said, we're going to need the prices of the options, their corresponding strike prices, and expiration date, so let's get those."
   ]
  },
  {
   "cell_type": "code",
   "execution_count": 4,
   "id": "664db1fb",
   "metadata": {},
   "outputs": [],
   "source": [
    "C_k = [] # Current mkt price of call options\n",
    "P_k = [] # Current mkt price of put options\n",
    "\n",
    "C = [] # Strike prices for call options\n",
    "P = [] # Strike prices for put options"
   ]
  },
  {
   "cell_type": "code",
   "execution_count": 5,
   "id": "acf52c1b",
   "metadata": {},
   "outputs": [
    {
     "name": "stdout",
     "output_type": "stream",
     "text": [
      "Expiration date for options: 2022-10-21\n",
      "Current price of underlying asset: 143.86\n"
     ]
    }
   ],
   "source": [
    "index_in_json_data = 0 # Toggle this to shift the desired expiration date later\n",
    "for contract in json_data['data'][index_in_json_data]['options']['CALL']:\n",
    "    C_k.append(contract['lastPrice'])\n",
    "    C.append(contract['strike'])\n",
    "    \n",
    "for contract in json_data['data'][index_in_json_data]['options']['PUT']:\n",
    "    P_k.append(contract['lastPrice'])\n",
    "    P.append(contract['strike'])\n",
    "    \n",
    "current_price = json_data['lastTradePrice']\n",
    "expiration_date = json_data['data'][index_in_json_data]['options']['CALL'][0]['expirationDate']\n",
    "print(f\"Expiration date for options: {expiration_date}\")\n",
    "print(f\"Current price of underlying asset: {current_price}\")"
   ]
  },
  {
   "cell_type": "markdown",
   "id": "bb35d708",
   "metadata": {},
   "source": [
    "We also need to define what our bounds for the price of AAPL at expiration. Since the default expiration for this notebook is in the near future, a range of plus or minus 15% of the current value is a reasonable boundary."
   ]
  },
  {
   "cell_type": "code",
   "execution_count": 6,
   "id": "cb7449cd",
   "metadata": {},
   "outputs": [],
   "source": [
    "# Create different states of the world\n",
    "max_gain_loss = 0.15 # The max percent increase/decrease that we believe is possible until expiration\n",
    "interval_between_states = 1 # The dollar interval for our model (e.g. interval_between_states = 0.5 means that possible states of the world occur at every 50 cents between the upper and lower price)\n",
    "\n",
    "omega = []\n",
    "upper_price = int(current_price * (1+max_gain_loss))\n",
    "lower_price = int(current_price * (1-max_gain_loss))\n",
    "price = lower_price\n",
    "while price <= upper_price:\n",
    "    omega.append(price)\n",
    "    price += interval_between_states"
   ]
  },
  {
   "cell_type": "code",
   "execution_count": 7,
   "id": "24bc8e9c",
   "metadata": {},
   "outputs": [],
   "source": [
    "coarseness = 7 # Factor to discretize probabilities\n",
    "x = create_binary_variables(coarseness, omega)"
   ]
  },
  {
   "cell_type": "code",
   "execution_count": 8,
   "id": "7639a173",
   "metadata": {},
   "outputs": [
    {
     "name": "stderr",
     "output_type": "stream",
     "text": [
      "100%|██████████| 79/79 [00:26<00:00,  2.97it/s]\n",
      "100%|██████████| 79/79 [00:29<00:00,  2.70it/s]\n"
     ]
    }
   ],
   "source": [
    "obj = create_objective_function(C, C_k, P, P_k, x, coarseness, omega, R)"
   ]
  },
  {
   "cell_type": "code",
   "execution_count": 9,
   "id": "49e2f496",
   "metadata": {},
   "outputs": [
    {
     "name": "stdout",
     "output_type": "stream",
     "text": [
      "Constraint added.\n"
     ]
    }
   ],
   "source": [
    "# Constrain the probabilities to sum to 1\n",
    "lam = sympy.Symbol(\"lam\")\n",
    "const = generate_sum_to_one_constraint(x)\n",
    "obj.add_constraint_eq_zero(const, lam=lam)\n",
    "print(\"Constraint added.\")"
   ]
  },
  {
   "cell_type": "code",
   "execution_count": 10,
   "id": "85965bd9",
   "metadata": {},
   "outputs": [
    {
     "data": {
      "text/plain": [
       "308"
      ]
     },
     "execution_count": 10,
     "metadata": {},
     "output_type": "execute_result"
    }
   ],
   "source": [
    "# Enforce the constraint\n",
    "M = 1\n",
    "obj_new = obj.subs({lam : M})\n",
    "len(obj.variables)"
   ]
  },
  {
   "cell_type": "code",
   "execution_count": 11,
   "id": "add7d5a3",
   "metadata": {},
   "outputs": [
    {
     "name": "stdout",
     "output_type": "stream",
     "text": [
      "Wall time: 12 s\n"
     ]
    }
   ],
   "source": [
    "# Solve\n",
    "%time res = anneal_qubo(obj_new, num_anneals=100)\n",
    "solution = res.best.state"
   ]
  },
  {
   "cell_type": "code",
   "execution_count": 12,
   "id": "100c8269",
   "metadata": {},
   "outputs": [
    {
     "name": "stdout",
     "output_type": "stream",
     "text": [
      "1.03125\n",
      "4017.8977611329174\n"
     ]
    }
   ],
   "source": [
    "# Check that the probabilities sum to 1\n",
    "probabilities = {}\n",
    "for state in omega:\n",
    "    probabilities[state] = 0\n",
    "for sol in solution:\n",
    "    if solution[sol] == 1:\n",
    "        s, power = int(sol.split(\"_\")[1]), int(sol.split(\"_\")[2])\n",
    "        state = omega[s]\n",
    "        probabilities[state] += 1/(2**(power+1))\n",
    "\n",
    "# If probabilities don't sum to 1, normalize them\n",
    "prob_sum = sum(probabilities.values())\n",
    "print(prob_sum)\n",
    "for state in probabilities:\n",
    "    probabilities[state] = probabilities[state] / prob_sum\n",
    "\n",
    "print(obj_new.value(solution))"
   ]
  },
  {
   "cell_type": "code",
   "execution_count": 13,
   "id": "920290fb",
   "metadata": {
    "scrolled": true
   },
   "outputs": [
    {
     "data": {
      "image/png": "[encoded data removed]",
      "text/plain": [
       "<Figure size 432x288 with 1 Axes>"
      ]
     },
     "metadata": {
      "needs_background": "light"
     },
     "output_type": "display_data"
    }
   ],
   "source": [
    "plt.bar(list(probabilities.keys()), probabilities.values(), color='g')\n",
    "plt.title(f\"Implied risk-neutral probability distribution for {json_data['code']}\\nfrom options expiring {expiration_date}\\nLast closing price: {current_price}\")\n",
    "plt.show()"
   ]
  },
  {
   "cell_type": "code",
   "execution_count": 14,
   "id": "072e8571",
   "metadata": {},
   "outputs": [
    {
     "data": {
      "image/png": "[encoded data removed]",
      "text/plain": [
       "<Figure size 432x288 with 1 Axes>"
      ]
     },
     "metadata": {
      "needs_background": "light"
     },
     "output_type": "display_data"
    }
   ],
   "source": [
    "def f(x, mu, sigma) :\n",
    "    return 1/(np.sqrt(2*np.pi)*sigma*x)*np.exp(-((np.log(x)- mu)**2)/(2*sigma**2))\n",
    "x = np.array([i for i in probabilities.keys()])\n",
    "y = np.array([i for i in probabilities.values()])\n",
    "\n",
    "params, extras = curve_fit(f, x, y)\n",
    "plt.plot(x, y, \"o\")\n",
    "plt.plot(x, f(x ,params[0], params[1])) \n",
    "\n",
    "plt.show()"
   ]
  },
  {
   "cell_type": "code",
   "execution_count": 15,
   "id": "efbc774b",
   "metadata": {},
   "outputs": [
    {
     "name": "stdout",
     "output_type": "stream",
     "text": [
      "Area under orange curve (should equal ~1): 0.98\n"
     ]
    }
   ],
   "source": [
    "print(\"Area under orange curve (should equal ~1):\", round(trapz(f(x, params[0], params[1]), x), 2))"
   ]
  },
  {
   "cell_type": "code",
   "execution_count": 16,
   "id": "6fad2a7b",
   "metadata": {},
   "outputs": [
    {
     "data": {
      "text/plain": [
       "0.044"
      ]
     },
     "execution_count": 16,
     "metadata": {},
     "output_type": "execute_result"
    }
   ],
   "source": [
    "# Find the probability that the future price is betweeen two other points from the curve we fitted\n",
    "get_probability_between_prices_curve(params, 100, 130)"
   ]
  },
  {
   "cell_type": "code",
   "execution_count": 17,
   "id": "719893bf",
   "metadata": {},
   "outputs": [
    {
     "data": {
      "text/plain": [
       "0.030303030303030304"
      ]
     },
     "execution_count": 17,
     "metadata": {},
     "output_type": "execute_result"
    }
   ],
   "source": [
    "# Find the probability that the future price is betweeen two other points from solution from the quantum results\n",
    "get_probability_between_prices_from_qubo(probabilities, 100, 130)"
   ]
  },
  {
   "cell_type": "markdown",
   "id": "f10599a3",
   "metadata": {},
   "source": [
    "## Conclusions\n",
    "\n",
    "We have shown how to extract implied risk-neutral probabilities for the price of an underlying asset at expiration using quantum techniques."
   ]
  },
  {
   "cell_type": "markdown",
   "id": "4f4f8401",
   "metadata": {},
   "source": [
    "References:\n",
    "\n",
    "[Inspiration for this notebook in Section 8.4](https://www.andrew.cmu.edu/user/gc0v/webpub/book.pdf)\n",
    "\n",
    "[Morgan Stanley Illustration of the Problem](https://www.morganstanley.com/content/dam/msdotcom/en/assets/pdfs/Options_Probabilities_Exhibit_Link.pdf)"
   ]
  },
  {
   "cell_type": "code",
   "execution_count": null,
   "id": "eb3df8b2",
   "metadata": {},
   "outputs": [],
   "source": []
  }
 ],
 "metadata": {
  "kernelspec": {
   "display_name": "Python 3.9.1 64-bit",
   "language": "python",
   "name": "python3"
  },
  "language_info": {
   "codemirror_mode": {
    "name": "ipython",
    "version": 3
   },
   "file_extension": ".py",
   "mimetype": "text/x-python",
   "name": "python",
   "nbconvert_exporter": "python",
   "pygments_lexer": "ipython3",
   "version": "3.9.1"
  },
  "vscode": {
   "interpreter": {
    "hash": "8cdab4a4226358d86a2b211fd094900d0744848f2589871a1b1cd81a6127e95d"
   }
  }
 },
 "nbformat": 4,
 "nbformat_minor": 5
}
