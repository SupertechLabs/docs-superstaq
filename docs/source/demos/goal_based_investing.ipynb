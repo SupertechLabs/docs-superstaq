{
 "cells": [
  {
   "cell_type": "markdown",
   "id": "e2508b07",
   "metadata": {},
   "source": [
    "# [Goal Based Investing](https://en.wikipedia.org/wiki/Goal-based_investing)\n",
    "### Maximizing value using quantum techniques"
   ]
  },
  {
   "cell_type": "markdown",
   "id": "072460c3",
   "metadata": {},
   "source": [
    "## Problem Description\n",
    "Suppose we have $N$ goals $\\{A, B, C...N \\}$ and value $v(i)$ for each goal. We want to allocate our wealth and investments to maximize expected value delivered to us over our time horizon.\n",
    "$$max \\sum_{i=1}^{N} v(i)\\phi(i)$$ \n",
    "\n",
    "where $\\phi(i)$ is the probability of achieving goal $i$.\n",
    "\n",
    "For this application, we will assume a normal distribution for portfolio returns, which is [an appropriate assumption for that use](https://www.investopedia.com/articles/investing/102014/lognormal-and-normal-distribution.asp).\n",
    "\n",
    "We will obtain the probability from the cumulative distribution function (CDF):\n",
    "\n",
    "$\\phi(i) = 1 - \\Phi(i)$ where $\\Phi$ is the CDF for goal $i$.\n",
    "\n",
    "While it computationally cheap to compute a probability from a CDF for a given value, it is hard to instead optimize the value, so we will approximate the CDF with a polynomial.\n",
    "\n",
    "We can approximate the CDF very well with a z-score constrained between bounds below with the following cubic function:\n",
    "\n",
    "$\\Phi(z) = -0.0277939z^3 + 0.00387615z^2+0.356886z+0.49535$ where $z$ is the z-score for the wealth allocation."
   ]
  },
  {
   "cell_type": "markdown",
   "id": "3a0eb084",
   "metadata": {},
   "source": [
    "Essentially, we are pulling and optimizing the following levers: wealth allocation toward each goal and portfolio allocation for each goal."
   ]
  },
  {
   "attachments": {
    "Capture.PNG": {
     "image/png": "[encoded data removed]"
    }
   },
   "cell_type": "markdown",
   "id": "b85ec84c",
   "metadata": {},
   "source": [
    "![Capture.PNG](attachment:Capture.PNG)"
   ]
  },
  {
   "cell_type": "markdown",
   "id": "b1de43f4",
   "metadata": {},
   "source": [
    "The z-score is computed in the following way: $z_i = \\frac{F_i-W_i}{\\sigma_i}$ where $W_i$ is the wealth needed to obtain the goal (the cost), $F_i$ is the expected wealth at the time of the goal given a current dollar amount allocated to the goal and expected returns, and $\\sigma_i$ is the standard deviation of future wealth."
   ]
  },
  {
   "cell_type": "markdown",
   "id": "1b818ca0",
   "metadata": {},
   "source": [
    "The expected future value of wealth allocated for the goal at the time of the goal is $F_i = a_{ij}(w_i \\times (1+r_j)^n) +...$ where $a_{ij}$ is the binary variable indicating whether we allocate the wealth set aside for goal $i$ to portfolio $j$, $w_i$ is the amount of current (present day) wealth to allocate for goal $i$, $r_j$ is the expected annual return of portfolio $j$, and $n$ is the number of years until the goal. \n",
    "\n",
    "We can only allocate the wealth for the goal toward one portfolio. For each goal $i$, the sum of $a_{ij}$ must equal 1. We'll pick from portfolios on the efficient frontier."
   ]
  },
  {
   "cell_type": "markdown",
   "id": "cc9c052a",
   "metadata": {},
   "source": [
    "$w_i$ is fractional amounts of $W_i$. In our implementation, $w_i$ is structured in the following way: $w_i = \\frac{1}2 W_i \\times x_{i1} + \\frac{1}4 W_i \\times x_{i2} + \\frac{1}8 W_i \\times x_{i3}$ +... . Each $x$ variable indicates whether or not we include its corresponding coefficient amount of wealth. So, for `fractional_precision = 5`, we could allocate wealth for a goal in increments of $\\frac{1}{32}$ of the cost of the goal between $\\frac{1}{32}$ and $\\frac{31}{32}$ of the cost of the goal. We constrain that the sum of all $w_i$ must be less than or equal to the total wealth we have available."
   ]
  },
  {
   "cell_type": "code",
   "execution_count": 1,
   "id": "d2b4c0dd",
   "metadata": {},
   "outputs": [],
   "source": [
    "from goal_investing_helper import * # Helper functions (not publically available)"
   ]
  },
  {
   "cell_type": "code",
   "execution_count": 2,
   "id": "d0a264f5",
   "metadata": {},
   "outputs": [],
   "source": [
    "import qubovert as qv\n",
    "import sympy\n",
    "\n",
    "current_wealth = 30\n",
    "\n",
    "# Annualized expected returns and volatilities for different efficient portfolios\n",
    "portfolios = {\n",
    "    \n",
    "    0 : {\"exp_ret\" : 5, \"vol\" : 3},\n",
    "    1 : {\"exp_ret\" : 7, \"vol\" : 10},\n",
    "    2 : {\"exp_ret\" : 9, \"vol\" : 20},\n",
    "    3 : {\"exp_ret\" : 12, \"vol\" : 35},\n",
    "}\n",
    "\n",
    "fractional_precision = 5\n",
    "\n",
    "# The value (utility), cost, and time in years until each goal\n",
    "goals = {\n",
    "    0 : {\"value\" : 3000, \"cost\" : 8, \"time\" : 7},\n",
    "    1 : {\"value\" : 250, \"cost\" : 8, \"time\" : 10},\n",
    "    2 : {\"value\" : 350, \"cost\" : 4, \"time\" : 15},\n",
    "    3 : {\"value\" : 1000, \"cost\" : 8, \"time\" : 20},\n",
    "    4 : {\"value\" : 500, \"cost\" : 7, \"time\" : 25},\n",
    "    5 : {\"value\" : 400, \"cost\" : 18, \"time\" : 30},\n",
    "    6 : {\"value\" : 1000, \"cost\" : 21, \"time\" : 35},\n",
    "    7 : {\"value\" : 2000, \"cost\" : 23, \"time\" : 40},\n",
    "    8 : {\"value\" : 3000, \"cost\" : 25, \"time\" : 45},\n",
    "}\n"
   ]
  },
  {
   "cell_type": "code",
   "execution_count": 3,
   "id": "5af9c8bc",
   "metadata": {},
   "outputs": [
    {
     "name": "stderr",
     "output_type": "stream",
     "text": [
      "100%|██████████| 9/9 [00:19<00:00,  2.20s/it]\n"
     ]
    },
    {
     "name": "stdout",
     "output_type": "stream",
     "text": [
      "Objective function constructed\n"
     ]
    }
   ],
   "source": [
    "lam =sympy.Symbol(\"lam\") # Placeholder for penalty term\n",
    "\n",
    "obj, x, a = create_obj_function(goals, portfolios, fractional_precision, current_wealth)\n",
    "\n",
    "\n",
    "print(\"Objective function constructed\")\n"
   ]
  },
  {
   "cell_type": "code",
   "execution_count": 4,
   "id": "3a6103ce",
   "metadata": {},
   "outputs": [],
   "source": [
    "M = calculate_lam(obj, lam) / 2 # Subsitute penalty factor\n",
    "obj = obj.subs({lam : M})"
   ]
  },
  {
   "cell_type": "code",
   "execution_count": 5,
   "id": "6408d812",
   "metadata": {},
   "outputs": [
    {
     "data": {
      "text/plain": [
       "756"
      ]
     },
     "execution_count": 5,
     "metadata": {},
     "output_type": "execute_result"
    }
   ],
   "source": [
    "obj_qubo = obj.to_qubo()\n",
    "len(obj_qubo.variables)"
   ]
  },
  {
   "cell_type": "code",
   "execution_count": 6,
   "id": "d705ae01",
   "metadata": {},
   "outputs": [
    {
     "name": "stdout",
     "output_type": "stream",
     "text": [
      "Wall time: 7min 15s\n"
     ]
    }
   ],
   "source": [
    "from qubovert.sim import anneal_qubo\n",
    "from scipy.stats import norm\n",
    "from pprint import pprint\n",
    "%time res = anneal_qubo(obj_qubo, num_anneals=10000) # Solve the problem using simulated annealing"
   ]
  },
  {
   "cell_type": "code",
   "execution_count": 7,
   "id": "a44df280",
   "metadata": {},
   "outputs": [
    {
     "name": "stderr",
     "output_type": "stream",
     "text": [
      "100%|██████████| 10000/10000 [12:42<00:00, 13.12it/s]"
     ]
    },
    {
     "name": "stdout",
     "output_type": "stream",
     "text": [
      "---------------------------------------\n",
      "Goal 0 allocated $5.25 to portfolio 2, which has expected return 9% and volatility 20% and has a value of 3000 cost of $8 in 7 years.\n",
      "Expected future value: $9.6 \n",
      "Standard deviation of future value: $0.93\n",
      "Cost: $8 \n",
      "Prob of meeting goal: 95.8% \n",
      "---------------------------------------\n",
      "Goal 1 allocated $0.5 to portfolio 3, which has expected return 12% and volatility 35% and has a value of 250 cost of $8 in 10 years.\n",
      "Expected future value: $1.55 \n",
      "Standard deviation of future value: $3.63\n",
      "Cost: $8 \n",
      "Prob of meeting goal: 3.8% \n",
      "---------------------------------------\n",
      "Goal 2 allocated $0.62 to portfolio 2, which has expected return 9% and volatility 20% and has a value of 350 cost of $4 in 15 years.\n",
      "Expected future value: $2.28 \n",
      "Standard deviation of future value: $3.02\n",
      "Cost: $4 \n",
      "Prob of meeting goal: 28.4% \n",
      "---------------------------------------\n",
      "Goal 3 allocated $3.25 to portfolio 3, which has expected return 12% and volatility 35% and has a value of 1000 cost of $8 in 20 years.\n",
      "Expected future value: $31.35 \n",
      "Standard deviation of future value: $33.35\n",
      "Cost: $8 \n",
      "Prob of meeting goal: 75.8% \n",
      "---------------------------------------\n",
      "Goal 4 allocated $0.22 to portfolio 3, which has expected return 12% and volatility 35% and has a value of 500 cost of $7 in 25 years.\n",
      "Expected future value: $3.72 \n",
      "Standard deviation of future value: $28.65\n",
      "Cost: $7 \n",
      "Prob of meeting goal: 45.4% \n",
      "---------------------------------------\n",
      "Goal 5 allocated $1.69 to portfolio 2, which has expected return 9% and volatility 20% and has a value of 400 cost of $18 in 30 years.\n",
      "Expected future value: $22.39 \n",
      "Standard deviation of future value: $23.55\n",
      "Cost: $18 \n",
      "Prob of meeting goal: 57.4% \n",
      "---------------------------------------\n",
      "Goal 6 allocated $3.94 to portfolio 2, which has expected return 9% and volatility 20% and has a value of 1000 cost of $21 in 35 years.\n",
      "Expected future value: $80.38 \n",
      "Standard deviation of future value: $35.65\n",
      "Cost: $21 \n",
      "Prob of meeting goal: 95.2% \n",
      "---------------------------------------\n",
      "Goal 7 allocated $8.62 to portfolio 2, which has expected return 9% and volatility 20% and has a value of 2000 cost of $23 in 40 years.\n",
      "Expected future value: $270.91 \n",
      "Standard deviation of future value: $49.0\n",
      "Cost: $23 \n",
      "Prob of meeting goal: 100.0% \n",
      "---------------------------------------\n",
      "Goal 8 allocated $5.47 to portfolio 1, which has expected return 7% and volatility 10% and has a value of 3000 cost of $25 in 45 years.\n",
      "Expected future value: $114.86 \n",
      "Standard deviation of future value: $13.99\n",
      "Cost: $25 \n",
      "Prob of meeting goal: 100.0% \n",
      "\n",
      "Expected value delivered/available:  10148.6 / 11500\n",
      "Total money spent: $ 29.56\n"
     ]
    },
    {
     "name": "stderr",
     "output_type": "stream",
     "text": [
      "\n"
     ]
    }
   ],
   "source": [
    "find_best_solution(obj, res, goals, portfolios, current_wealth) # Print the result from the results that maximizes expected value"
   ]
  },
  {
   "cell_type": "markdown",
   "id": "ed92b423",
   "metadata": {},
   "source": [
    "## Conclusion\n",
    "\n",
    "The quantum technique delivers good results, achieving a high probability of success for valuable goals. For goals where it relatively little money is allocated, riskier portfolios tend to be chosen. This makes sense because a safer portfolio may not have a chance to reach the goal's cost in an \"up\" state.\n",
    "\n",
    "The results could be improved with some classical post-processing. The quantum solution doesn't spend all available money, so we could allocate the last bits of money classically. Additionally, while the quantum solution rightfully prioritized allocating more money to more valuable goals, it over-allocated for some goals. This is likely due to the constraint to bound z-scores for our polynomial approximation of the normal distribution not being properly enforced, and it could be fixed with further work."
   ]
  },
  {
   "cell_type": "markdown",
   "id": "50333fac",
   "metadata": {},
   "source": []
  }
 ],
 "metadata": {
  "kernelspec": {
   "display_name": "Python 3.9.1 64-bit",
   "language": "python",
   "name": "python3"
  },
  "language_info": {
   "codemirror_mode": {
    "name": "ipython",
    "version": 3
   },
   "file_extension": ".py",
   "mimetype": "text/x-python",
   "name": "python",
   "nbconvert_exporter": "python",
   "pygments_lexer": "ipython3",
   "version": "3.9.1"
  },
  "vscode": {
   "interpreter": {
    "hash": "8cdab4a4226358d86a2b211fd094900d0744848f2589871a1b1cd81a6127e95d"
   }
  }
 },
 "nbformat": 4,
 "nbformat_minor": 5
}
